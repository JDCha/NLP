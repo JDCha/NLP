{
 "cells": [
  {
   "cell_type": "markdown",
   "metadata": {},
   "source": [
    "# Simple POS tagging by Using KoNLPy\n",
    "\n",
    "* Official site : http://konlpy.org/\n",
    "* How to install(Ubuntu, CentOS, OS X, Windows) : http://konlpy.org/en/v0.4.4/install/\n",
    "\n",
    "---\n",
    "\n",
    "## Environment\n",
    "\n",
    "* Kernel : Python 2.7\n",
    "* OS : Windows 10\n",
    "* csv file encoding : utf-8\n",
    "\n",
    "---"
   ]
  },
  {
   "cell_type": "markdown",
   "metadata": {},
   "source": [
    "There are 5 pos tagging classes in KonlPy, and comparison is in http://konlpy.org/en/v0.4.4/morph/.\n",
    "* Kkma\n",
    "* Komoran\n",
    "* Hannanum\n",
    "* Twitter\n",
    "* Mecab\n",
    "\n",
    "The example of using Pos tagger"
   ]
  },
  {
   "cell_type": "code",
   "execution_count": 3,
   "metadata": {},
   "outputs": [
    {
     "name": "stdout",
     "output_type": "stream",
     "text": [
      "[(u'\\uc548\\ub155', u'N'), (u'\\ud558', u'X'), (u'\\uc138', u'E'), (u'\\uc694', u'J'), (u',', u'S'), (u'\\uc800', u'N'), (u'\\ub294', u'J'), (u'\\uc544\\ub8e8\\ubca0\\uc785\\ub2c8', u'N'), (u'\\uc774', u'J'), (u'\\ub2e4', u'E'), (u'.', u'S')]\n"
     ]
    }
   ],
   "source": [
    "from konlpy.tag import Hannanum\n",
    "hannanum = Hannanum()\n",
    "\n",
    "print hannanum.pos(u'안녕하세요, 저는 아루베입니다.')"
   ]
  },
  {
   "cell_type": "markdown",
   "metadata": {},
   "source": [
    "Because it is unicode, result is not good at looking. We don't know actual Korean from printed result. Just separating them makes it much clearer."
   ]
  },
  {
   "cell_type": "code",
   "execution_count": 13,
   "metadata": {},
   "outputs": [
    {
     "name": "stdout",
     "output_type": "stream",
     "text": [
      "안녕하세요,저는ahroobe입니 N\n",
      "이 J\n",
      "다 E\n",
      ". S\n"
     ]
    }
   ],
   "source": [
    "result = hannanum.pos(u'안녕하세요,저는ahroobe입니다.')\n",
    "for word,pos in result:\n",
    "    print word,pos"
   ]
  },
  {
   "cell_type": "markdown",
   "metadata": {},
   "source": [
    "In POS definition, Twitter has simplest POS definition. Result would be changed when we use Twitter POS tagger for same sentence.\n",
    "\n",
    "pos tags comparision chart link : https://docs.google.com/spreadsheets/d/1OGAjUvalBuX-oZvZ_-9tEfYD2gQe7hTGsgUpiiBSXI8/edit#gid=0"
   ]
  },
  {
   "cell_type": "code",
   "execution_count": 7,
   "metadata": {},
   "outputs": [],
   "source": [
    "from konlpy.tag import Twitter\n",
    "twitter = Twitter()"
   ]
  },
  {
   "cell_type": "code",
   "execution_count": 10,
   "metadata": {},
   "outputs": [
    {
     "name": "stdout",
     "output_type": "stream",
     "text": [
      "안녕하세 Adjective\n",
      "요 Eomi\n",
      ", Punctuation\n",
      "저 Noun\n",
      "는 Josa\n",
      "ahroobe Alpha\n",
      "입니 Adjective\n",
      "다 Eomi\n",
      ". Punctuation\n"
     ]
    }
   ],
   "source": [
    "result = twitter.pos(u'안녕하세요,저는ahroobe입니다.')\n",
    "for word,pos in result:\n",
    "    print word,pos"
   ]
  },
  {
   "cell_type": "markdown",
   "metadata": {},
   "source": [
    "## Example of csv file"
   ]
  },
  {
   "cell_type": "code",
   "execution_count": 22,
   "metadata": {},
   "outputs": [],
   "source": [
    "import csv\n",
    "# I use csv library to load csv files. (more convenient)\n",
    "\n",
    "with open('./sample.csv','w') as writefile:\n",
    "    writer = csv.writer(writefile)\n",
    "    writer.writerow(['temp','temp','안녕하세요로로로롤~~이런것도가능할까요?저는띄어쓰기같은거몰라요'])"
   ]
  },
  {
   "cell_type": "markdown",
   "metadata": {},
   "source": [
    "## Load csv file and analyze it."
   ]
  },
  {
   "cell_type": "code",
   "execution_count": 26,
   "metadata": {},
   "outputs": [
    {
     "name": "stdout",
     "output_type": "stream",
     "text": [
      "안녕하세 Adjective\n",
      "요로로 Noun\n",
      "로 Josa\n",
      "롤 Noun\n",
      "~~ Punctuation\n",
      "이런 Adjective\n",
      "것 PreEomi\n",
      "도 Eomi\n",
      "가능할 Adjective\n",
      "까 Eomi\n",
      "요 Noun\n",
      "? Punctuation\n",
      "저 Noun\n",
      "는 Josa\n",
      "띄어쓰기 Noun\n",
      "같은 Adjective\n",
      "거 Eomi\n",
      "몰라 Verb\n",
      "요 Eomi\n"
     ]
    }
   ],
   "source": [
    "with open('./sample.csv','r') as readfile:\n",
    "    reader = csv.reader(readfile)\n",
    "    # next(reader) # If there is header, skip it.\n",
    "    for row in reader:\n",
    "        # Get certian column value. Here, we get second values of row.\n",
    "        # and decode it by utf-8\n",
    "        data = row[2].decode('utf-8')\n",
    "        result =  twitter.pos(data)\n",
    "        for word,pos in result:\n",
    "            print word,pos\n",
    "        "
   ]
  }
 ],
 "metadata": {
  "kernelspec": {
   "display_name": "Python 2",
   "language": "python",
   "name": "python2"
  },
  "language_info": {
   "codemirror_mode": {
    "name": "ipython",
    "version": 2
   },
   "file_extension": ".py",
   "mimetype": "text/x-python",
   "name": "python",
   "nbconvert_exporter": "python",
   "pygments_lexer": "ipython2",
   "version": "2.7.13"
  }
 },
 "nbformat": 4,
 "nbformat_minor": 2
}
