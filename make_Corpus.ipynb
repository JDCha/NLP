{
 "cells": [
  {
   "cell_type": "markdown",
   "metadata": {},
   "source": [
    "## 전처리 및 courpus 생성\n",
    "\n",
    "* 중복 채팅 제거\n",
    "* 사람 별로 저장\n",
    "* -님 제거\n",
    "* 영어 제거\n",
    "* 숫자 제거\n"
   ]
  },
  {
   "cell_type": "code",
   "execution_count": null,
   "metadata": {
    "collapsed": true
   },
   "outputs": [],
   "source": [
    "import csv\n",
    "from collections import defaultdict\n",
    "import datetime"
   ]
  },
  {
   "cell_type": "code",
   "execution_count": null,
   "metadata": {},
   "outputs": [],
   "source": [
    "corpus4 = defaultdict(lambda: defaultdict(lambda:defaultdict(lambda:set())))\n",
    "date1 = '2011-12-13'\n",
    "date1 = datetime.datetime.strptime(date1,\"%Y-%m-%d\")\n",
    "with open('../논문작업/아키에이지/python/drop_chat/cbt4_chatlog.csv','r',encoding='utf-8') as readfile:\n",
    "    reader = csv.reader(readfile)\n",
    "    print (next(reader))\n",
    "    for idx,row in enumerate(reader):\n",
    "        if idx%1000000==0:\n",
    "            print (\"%s/19309741, %s\"%(idx,date))\n",
    "        date = row[0][:10]\n",
    "        date = datetime.datetime.strptime(date, \"%Y-%m-%d\")\n",
    "        delta = (date-date1).days\n",
    "        if delta<0:\n",
    "            week = 0\n",
    "        else:\n",
    "            week = int(delta/7) +1\n",
    "        chat_type = row[1]\n",
    "        userID = int(row[2])\n",
    "        chat = \"\"\n",
    "        for ch in row[-1]:\n",
    "            if ch==\" \":\n",
    "                chat+=ch\n",
    "            else:\n",
    "                try:\n",
    "                    ch.encode('ascii')\n",
    "                except:\n",
    "                    chat+=ch\n",
    "        chat = chat.split(' ')\n",
    "        temp = []\n",
    "        for ch in chat:\n",
    "            if chat[-1]!='님':\n",
    "                temp.append(ch)\n",
    "        chat = \" \".join(temp)\n",
    "        corpus4[week][chat_type][userID].add(chat)\n"
   ]
  },
  {
   "cell_type": "code",
   "execution_count": null,
   "metadata": {
    "collapsed": true
   },
   "outputs": [],
   "source": [
    "for date in corpus.keys():\n",
    "    for types in corpus[date].keys():\n",
    "        with open('./corpus/4_%s_%s.csv'%(date,types),'w',encoding='utf-8',newline='\\n') as writefile:\n",
    "            writer = csv.writer(writefile)\n",
    "            writer.writerow(['ID','corpus'])\n",
    "            for ids in corpus[date][types].keys():\n",
    "                writer.writerow([ids, \" \".join(corpus[date][types][ids])])"
   ]
  },
  {
   "cell_type": "markdown",
   "metadata": {},
   "source": [
    "---\n",
    "# CBT5"
   ]
  },
  {
   "cell_type": "code",
   "execution_count": null,
   "metadata": {},
   "outputs": [],
   "source": [
    "corpus5 = defaultdict(lambda: defaultdict(lambda:defaultdict(lambda:set())))\n",
    "date1 = '2012-08-15'\n",
    "date1 = datetime.datetime.strptime(date1,\"%Y-%m-%d\")\n",
    "with open('../논문작업/아키에이지/python/drop_chat/cbt5_chatlog.csv','r',encoding='utf-8') as readfile:\n",
    "    reader = csv.reader(readfile)\n",
    "    print (next(reader))\n",
    "    for idx,row in enumerate(reader):\n",
    "        if idx%1000000==0:\n",
    "            print (\"%s/6255256, %s\"%(idx,date))\n",
    "        date = row[0][:10]\n",
    "        date = datetime.datetime.strptime(date, \"%Y-%m-%d\")\n",
    "        delta = (date-date1).days\n",
    "        if delta<0:\n",
    "            week = 0\n",
    "        else:\n",
    "            week = int(delta/7) +1\n",
    "        chat_type = row[1]\n",
    "        userID = int(row[2])\n",
    "        chat = \"\"\n",
    "        for ch in row[-1]:\n",
    "            if ch==\" \":\n",
    "                chat+=ch\n",
    "            else:\n",
    "                try:\n",
    "                    ch.encode('ascii')\n",
    "                except:\n",
    "                    chat+=ch\n",
    "                    \n",
    "        chat = chat.split(' ')\n",
    "        temp = []\n",
    "        for ch in chat:\n",
    "            if chat[-1]!='님':\n",
    "                temp.append(ch)\n",
    "        chat = \" \".join(temp)\n",
    "    \n",
    "        corpus5[week][chat_type][userID].add(chat)\n"
   ]
  },
  {
   "cell_type": "code",
   "execution_count": null,
   "metadata": {
    "collapsed": true
   },
   "outputs": [],
   "source": [
    "for date in corpus.keys():\n",
    "    for types in corpus[date].keys():\n",
    "        with open('./corpus/5_%s_%s.csv'%(date,types),'w',encoding='utf-8',newline='\\n') as writefile:\n",
    "            writer = csv.writer(writefile)\n",
    "            writer.writerow(['ID','corpus'])\n",
    "            for ids in corpus[date][types].keys():\n",
    "                writer.writerow([ids, \" \".join(corpus[date][types][ids])])"
   ]
  },
  {
   "cell_type": "markdown",
   "metadata": {},
   "source": [
    "---\n",
    "\n",
    "# 아예 사람으로만 저장"
   ]
  },
  {
   "cell_type": "code",
   "execution_count": null,
   "metadata": {},
   "outputs": [],
   "source": [
    "corpus4 = defaultdict(lambda: set())\n",
    "\n",
    "with open('../논문작업/아키에이지/python/drop_chat/cbt4_chatlog.csv','r',encoding='utf-8') as readfile:\n",
    "    reader = csv.reader(readfile)\n",
    "    print (next(reader))\n",
    "    for idx,row in enumerate(reader):\n",
    "        if idx%1000000==0:\n",
    "            print (\"%s/19309741, %s\"%(idx,date))\n",
    "        userID = int(row[2])\n",
    "        chat = \"\"\n",
    "        for ch in row[-1]:\n",
    "            if ch==\" \":\n",
    "                chat+=ch\n",
    "            else:\n",
    "                try:\n",
    "                    ch.encode('ascii')\n",
    "                except:\n",
    "                    chat+=ch\n",
    "        chat = chat.split(' ')\n",
    "        temp = []\n",
    "        for ch in chat:\n",
    "            try:\n",
    "                if ch[-1]!='님':\n",
    "                    temp.append(ch)\n",
    "            except:\n",
    "                pass\n",
    "        chat = \" \".join(temp)\n",
    "        corpus4[userID].add(chat)"
   ]
  },
  {
   "cell_type": "code",
   "execution_count": null,
   "metadata": {
    "collapsed": true
   },
   "outputs": [],
   "source": [
    "\n",
    "with open('./corpus/cbt4_chatall.csv','w',encoding='utf-8',newline='\\n') as writefile:\n",
    "    writer = csv.writer(writefile)\n",
    "    writer.writerow(['ID','corpus'])\n",
    "    for ids in corpus4.keys():\n",
    "        writer.writerow([ids, \" \".join(corpus4[ids])])"
   ]
  },
  {
   "cell_type": "code",
   "execution_count": null,
   "metadata": {},
   "outputs": [],
   "source": [
    "corpus5 = defaultdict(lambda: set())\n",
    "\n",
    "with open('../논문작업/아키에이지/python/drop_chat/cbt5_chatlog.csv','r',encoding='utf-8') as readfile:\n",
    "    reader = csv.reader(readfile)\n",
    "    print (next(reader))\n",
    "    for idx,row in enumerate(reader):\n",
    "        if idx%1000000==0:\n",
    "            print (\"%s/19309741, %s\"%(idx,date))\n",
    "        userID = int(row[2])\n",
    "        chat = \"\"\n",
    "        for ch in row[-1]:\n",
    "            if ch==\" \":\n",
    "                chat+=ch\n",
    "            else:\n",
    "                try:\n",
    "                    ch.encode('ascii')\n",
    "                except:\n",
    "                    chat+=ch\n",
    "        chat = chat.split(' ')\n",
    "        temp = []\n",
    "        for ch in chat:\n",
    "            try:\n",
    "                if ch[-1]!='님':\n",
    "                    temp.append(ch)\n",
    "            except:\n",
    "                pass\n",
    "        chat = \" \".join(temp)\n",
    "        corpus5[userID].add(chat)\n"
   ]
  },
  {
   "cell_type": "code",
   "execution_count": null,
   "metadata": {},
   "outputs": [],
   "source": [
    "with open('./corpus/cbt5_chatall.csv','w',encoding='utf-8',newline='\\n') as writefile:\n",
    "    writer = csv.writer(writefile)\n",
    "    writer.writerow(['ID','corpus'])\n",
    "    for ids in corpus5.keys():\n",
    "        writer.writerow([ids, \" \".join(corpus5[ids])])"
   ]
  },
  {
   "cell_type": "code",
   "execution_count": null,
   "metadata": {
    "collapsed": true
   },
   "outputs": [],
   "source": []
  }
 ],
 "metadata": {
  "kernelspec": {
   "display_name": "Python 3",
   "language": "python",
   "name": "python3"
  },
  "language_info": {
   "codemirror_mode": {
    "name": "ipython",
    "version": 3
   },
   "file_extension": ".py",
   "mimetype": "text/x-python",
   "name": "python",
   "nbconvert_exporter": "python",
   "pygments_lexer": "ipython3",
   "version": "3.6.1"
  }
 },
 "nbformat": 4,
 "nbformat_minor": 2
}
