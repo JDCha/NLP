{
 "cells": [
  {
   "cell_type": "code",
   "execution_count": 12,
   "metadata": {},
   "outputs": [],
   "source": [
    "import csv\n",
    "from collections import defaultdict\n",
    "import datetime"
   ]
  },
  {
   "cell_type": "code",
   "execution_count": 36,
   "metadata": {},
   "outputs": [
    {
     "name": "stdout",
     "output_type": "stream",
     "text": [
      "['Datetime', 'chat_type', 'Usernum', 'UserID', 'targetID', 'Chat']\n",
      "0/19309741, 3\n",
      "1000000/19309741, 2011-12-14 00:00:00\n",
      "2000000/19309741, 2011-12-17 00:00:00\n",
      "3000000/19309741, 2011-12-19 00:00:00\n",
      "4000000/19309741, 2011-12-24 00:00:00\n",
      "5000000/19309741, 2011-12-28 00:00:00\n",
      "6000000/19309741, 2012-01-01 00:00:00\n",
      "7000000/19309741, 2012-01-05 00:00:00\n",
      "8000000/19309741, 2012-01-09 00:00:00\n",
      "9000000/19309741, 2012-01-13 00:00:00\n",
      "10000000/19309741, 2012-01-16 00:00:00\n",
      "11000000/19309741, 2012-01-20 00:00:00\n",
      "12000000/19309741, 2012-01-24 00:00:00\n",
      "13000000/19309741, 2012-01-28 00:00:00\n",
      "14000000/19309741, 2012-02-01 00:00:00\n",
      "15000000/19309741, 2012-02-04 00:00:00\n",
      "16000000/19309741, 2012-02-08 00:00:00\n",
      "17000000/19309741, 2012-02-12 00:00:00\n",
      "18000000/19309741, 2012-02-17 00:00:00\n",
      "19000000/19309741, 2012-02-20 00:00:00\n"
     ]
    }
   ],
   "source": [
    "corpus = defaultdict(lambda: defaultdict(lambda:defaultdict(lambda:\"\")))\n",
    "date1 = '2011-12-13'\n",
    "date1 = datetime.datetime.strptime(date1,\"%Y-%m-%d\")\n",
    "with open('../논문작업/아키에이지/python/drop_chat/cbt4_chatlog.csv','r',encoding='utf-8') as readfile:\n",
    "    reader = csv.reader(readfile)\n",
    "    print (next(reader))\n",
    "    for idx,row in enumerate(reader):\n",
    "        if idx%1000000==0:\n",
    "            print (\"%s/19309741, %s\"%(idx,date))\n",
    "        date = row[0][:10]\n",
    "        date = datetime.datetime.strptime(date, \"%Y-%m-%d\")\n",
    "        delta = (date-date1).days\n",
    "        if delta<0:\n",
    "            week = 0\n",
    "        else:\n",
    "            week = int(delta/7) +1\n",
    "        chat_type = row[1]\n",
    "        userID = int(row[2])\n",
    "        chat = \"\"\n",
    "        for ch in row[-1]:\n",
    "            if ch==\" \":\n",
    "                chat+=ch\n",
    "            else:\n",
    "                try:\n",
    "                    ch.encode('ascii')\n",
    "                except:\n",
    "                    chat+=ch\n",
    "        corpus[week][chat_type][userID]+=(\" \"+chat)\n"
   ]
  },
  {
   "cell_type": "code",
   "execution_count": 37,
   "metadata": {},
   "outputs": [],
   "source": [
    "for date in corpus.keys():\n",
    "    for types in corpus[date].keys():\n",
    "        with open('./corpus/4_%s_%s.csv'%(date,types),'w',encoding='utf-8',newline='\\n') as writefile:\n",
    "            writer = csv.writer(writefile)\n",
    "            writer.writerow(['ID','corpus'])\n",
    "            for ids in corpus[date][types].keys():\n",
    "                writer.writerow([ids, corpus[date][types][ids]])"
   ]
  },
  {
   "cell_type": "markdown",
   "metadata": {},
   "source": [
    "---\n",
    "# CBT5"
   ]
  },
  {
   "cell_type": "code",
   "execution_count": 33,
   "metadata": {},
   "outputs": [
    {
     "name": "stdout",
     "output_type": "stream",
     "text": [
      "['Datetime', 'chat_type', 'Usernum', 'UserID', 'targetnum', 'targetID', 'Chat']\n",
      "0/6255256, 2012-08-15 00:00:00\n",
      "1000000/6255256, 2012-08-19 00:00:00\n",
      "2000000/6255256, 2012-08-21 00:00:00\n",
      "3000000/6255256, 2012-08-23 00:00:00\n",
      "4000000/6255256, 2012-08-25 00:00:00\n",
      "5000000/6255256, 2012-08-27 00:00:00\n",
      "6000000/6255256, 2012-08-30 00:00:00\n"
     ]
    }
   ],
   "source": [
    "corpus = defaultdict(lambda: defaultdict(lambda:defaultdict(lambda:\"\")))\n",
    "date1 = '2012-08-15'\n",
    "date1 = datetime.datetime.strptime(date1,\"%Y-%m-%d\")\n",
    "with open('../논문작업/아키에이지/python/drop_chat/cbt5_chatlog.csv','r',encoding='utf-8') as readfile:\n",
    "    reader = csv.reader(readfile)\n",
    "    print (next(reader))\n",
    "    for idx,row in enumerate(reader):\n",
    "        if idx%1000000==0:\n",
    "            print (\"%s/6255256, %s\"%(idx,date))\n",
    "        date = row[0][:10]\n",
    "        date = datetime.datetime.strptime(date, \"%Y-%m-%d\")\n",
    "        delta = (date-date1).days\n",
    "        if delta<0:\n",
    "            week = 0\n",
    "        else:\n",
    "            week = int(delta/7) +1\n",
    "        chat_type = row[1]\n",
    "        userID = int(row[2])\n",
    "        chat = \"\"\n",
    "        for ch in row[-1]:\n",
    "            if ch==\" \":\n",
    "                chat+=ch\n",
    "            else:\n",
    "                try:\n",
    "                    ch.encode('ascii')\n",
    "                except:\n",
    "                    chat+=ch\n",
    "        corpus[week][chat_type][userID]+=(\" \"+chat)\n"
   ]
  },
  {
   "cell_type": "code",
   "execution_count": 35,
   "metadata": {
    "collapsed": true
   },
   "outputs": [],
   "source": [
    "for date in corpus.keys():\n",
    "    for types in corpus[date].keys():\n",
    "        with open('./corpus/5_%s_%s.csv'%(date,types),'w',encoding='utf-8',newline='\\n') as writefile:\n",
    "            writer = csv.writer(writefile)\n",
    "            writer.writerow(['ID','corpus'])\n",
    "            for ids in corpus[date][types].keys():\n",
    "                writer.writerow([ids, corpus[date][types][ids]])"
   ]
  },
  {
   "cell_type": "code",
   "execution_count": null,
   "metadata": {
    "collapsed": true
   },
   "outputs": [],
   "source": []
  }
 ],
 "metadata": {
  "kernelspec": {
   "display_name": "Python 3",
   "language": "python",
   "name": "python3"
  },
  "language_info": {
   "codemirror_mode": {
    "name": "ipython",
    "version": 3
   },
   "file_extension": ".py",
   "mimetype": "text/x-python",
   "name": "python",
   "nbconvert_exporter": "python",
   "pygments_lexer": "ipython3",
   "version": "3.6.1"
  }
 },
 "nbformat": 4,
 "nbformat_minor": 2
}
