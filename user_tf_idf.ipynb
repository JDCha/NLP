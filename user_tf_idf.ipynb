{
 "cells": [
  {
   "cell_type": "code",
   "execution_count": 12,
   "metadata": {},
   "outputs": [],
   "source": [
    "import csv\n",
    "import pandas\n",
    "import os\n",
    "\n",
    "adict = dict()\n",
    "fdict = dict()\n",
    "targetpath = \"cbt5_corpus_withlabel/\"\n",
    "header = True\n",
    "for (path, dir, files) in os.walk(targetpath):\n",
    "    for filename in files:\n",
    "        with open(targetpath + filename, 'r', encoding='utf-8') as readfile:\n",
    "            reader = csv.reader(readfile)\n",
    "            \n",
    "            for r in reader:\n",
    "                if header == True:\n",
    "                    header = False\n",
    "                    continue\n",
    "                if r[2] == 'a':\n",
    "                    wordlist = r[1].split(' ')\n",
    "                    for w in wordlist:\n",
    "                        if w in adict.keys():\n",
    "                            adict[w] += 1\n",
    "                        else:\n",
    "                            adict[w] = 1\n",
    "                else:\n",
    "                    wordlist = r[1].split(' ')\n",
    "                    for w in wordlist:\n",
    "                            if w in fdict.keys():\n",
    "                                fdict[w] += 1\n",
    "                            else:\n",
    "                                fdict[w] = 1\n",
    "                    \n",
    "                "
   ]
  },
  {
   "cell_type": "code",
   "execution_count": 14,
   "metadata": {},
   "outputs": [],
   "source": [
    "import math\n",
    "def getTF(word, dic):\n",
    "    \n",
    "    wordfre = dic[word]\n",
    "            \n",
    "    return math.log(wordfre + 1)"
   ]
  },
  {
   "cell_type": "code",
   "execution_count": 16,
   "metadata": {},
   "outputs": [],
   "source": [
    "import math\n",
    "def getIDF(word):\n",
    "    count = 0\n",
    "    \n",
    "    for res in resultlist:\n",
    "        try:\n",
    "            tmp = res[word]\n",
    "            count = count + 1\n",
    "        except:\n",
    "            pass\n",
    "    return math.log((len(resultlist) + 1)/(count))"
   ]
  },
  {
   "cell_type": "code",
   "execution_count": 17,
   "metadata": {},
   "outputs": [],
   "source": [
    "resultlist = []\n",
    "resultlist.append(adict)\n",
    "resultlist.append(fdict)\n",
    "\n",
    "tfidfList = []\n",
    "count = 0\n",
    "for res in resultlist:\n",
    "    tmptfidf = dict()\n",
    "    for k in res:\n",
    "        if res[k] <= 50:\n",
    "            continue\n",
    "\n",
    "        TFIDF = getTF(k, count) * getIDF(k)\n",
    "        \n",
    "        tmptfidf[k] = TFIDF\n",
    "        \n",
    "    tfidfList.append(tmptfidf)\n",
    "        \n",
    "        \n",
    "    count = count + 1"
   ]
  },
  {
   "cell_type": "code",
   "execution_count": 18,
   "metadata": {},
   "outputs": [],
   "source": [
    "count = 0\n",
    "for d in tfidfList:\n",
    "    f = open('tfidf_'+ str(count) + '.csv', 'w')\n",
    "    for k in d:\n",
    "        f.write(k + ', ' + str(d[k]) + ', ' + str(resultlist[count][k]) + '\\n')\n",
    "    \n",
    "    f.close()\n",
    "    \n",
    "    count = count + 1"
   ]
  },
  {
   "cell_type": "code",
   "execution_count": null,
   "metadata": {},
   "outputs": [],
   "source": []
  }
 ],
 "metadata": {
  "kernelspec": {
   "display_name": "Python 3",
   "language": "python",
   "name": "python3"
  },
  "language_info": {
   "codemirror_mode": {
    "name": "ipython",
    "version": 3
   },
   "file_extension": ".py",
   "mimetype": "text/x-python",
   "name": "python",
   "nbconvert_exporter": "python",
   "pygments_lexer": "ipython3",
   "version": "3.6.4"
  }
 },
 "nbformat": 4,
 "nbformat_minor": 2
}
