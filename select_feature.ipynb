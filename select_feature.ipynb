{
 "cells": [
  {
   "cell_type": "markdown",
   "metadata": {},
   "source": [
    "# Feature Selection\n",
    "\n",
    "* Keep 욕설\n",
    "* Delete one letter words (No meaning)\n",
    "* Delete 생소한 words\n",
    "* Keep Noun, Adjective, Verb, KoreanParticles\n",
    "* Information Gain"
   ]
  },
  {
   "cell_type": "code",
   "execution_count": 22,
   "metadata": {
    "collapsed": true
   },
   "outputs": [],
   "source": [
    "import pandas as pd\n",
    "import csv\n",
    "import os\n",
    "from collections import defaultdict"
   ]
  },
  {
   "cell_type": "code",
   "execution_count": 9,
   "metadata": {
    "collapsed": true
   },
   "outputs": [],
   "source": [
    "allassult = []\n",
    "with open('./dataset/assult.csv','r',encoding='utf-8') as readfile:\n",
    "    reader = csv.reader(readfile)\n",
    "    for row in reader:\n",
    "        word = False\n",
    "        for ch in row[0]:\n",
    "            try:\n",
    "                ch.encode('ascii')\n",
    "                word = True\n",
    "            except:\n",
    "                pass\n",
    "        if not word:\n",
    "            allassult.append(row[0])"
   ]
  },
  {
   "cell_type": "code",
   "execution_count": 10,
   "metadata": {
    "collapsed": true
   },
   "outputs": [],
   "source": [
    "with open('./dataset/assult2.csv','w',newline='\\n',encoding='utf-8') as writefile:\n",
    "    writer = csv.writer(writefile)\n",
    "    for assult in allassult:\n",
    "        writer.writerow([assult])"
   ]
  },
  {
   "cell_type": "markdown",
   "metadata": {},
   "source": [
    "## 모든 단어 set 확인 및 욕설 단어 갯수 확인\n",
    "\n",
    "* 욕 DB에 있는 1439개 단어 중 506개가 사용됨"
   ]
  },
  {
   "cell_type": "code",
   "execution_count": 12,
   "metadata": {
    "collapsed": true
   },
   "outputs": [],
   "source": [
    "allword = set()"
   ]
  },
  {
   "cell_type": "code",
   "execution_count": 13,
   "metadata": {
    "collapsed": true
   },
   "outputs": [],
   "source": [
    "filepath = './dataset/user_result3/'\n",
    "files = os.listdir(filepath)\n",
    "for file in files:\n",
    "    with open(filepath+file,'r',encoding='utf-8') as readfile:\n",
    "        reader = csv.reader(readfile)\n",
    "        for row in reader:\n",
    "            allword.add(row[0])"
   ]
  },
  {
   "cell_type": "code",
   "execution_count": 14,
   "metadata": {},
   "outputs": [
    {
     "data": {
      "text/plain": [
       "233090"
      ]
     },
     "execution_count": 14,
     "metadata": {},
     "output_type": "execute_result"
    }
   ],
   "source": [
    "len(allword)"
   ]
  },
  {
   "cell_type": "code",
   "execution_count": 20,
   "metadata": {},
   "outputs": [
    {
     "data": {
      "text/plain": [
       "1439"
      ]
     },
     "execution_count": 20,
     "metadata": {},
     "output_type": "execute_result"
    }
   ],
   "source": [
    "assult_set = set(allassult)\n",
    "len(assult_set)"
   ]
  },
  {
   "cell_type": "code",
   "execution_count": 21,
   "metadata": {},
   "outputs": [
    {
     "data": {
      "text/plain": [
       "506"
      ]
     },
     "execution_count": 21,
     "metadata": {},
     "output_type": "execute_result"
    }
   ],
   "source": [
    "len(allword & assult_set)"
   ]
  },
  {
   "cell_type": "markdown",
   "metadata": {},
   "source": [
    "---\n",
    "\n",
    "## 한글자 짜리, 형태소 의미 없는 것들 삭제 + 욕 db에 있으면 남기기\n",
    "\n",
    "* Noun, Verb, Adjective, KoreanParticle 만 남기기\n",
    "* 1글자 짜리 삭제"
   ]
  },
  {
   "cell_type": "code",
   "execution_count": 81,
   "metadata": {
    "collapsed": true
   },
   "outputs": [],
   "source": [
    "filepath = './dataset/user_result2/'\n",
    "files = os.listdir(filepath)\n",
    "all_result = defaultdict(lambda:\"\")\n",
    "for file in files:\n",
    "    with open(filepath+file,'r',encoding='utf-8') as readfile:\n",
    "        reader = csv.reader(readfile)\n",
    "        game_id = int(file.split('.')[0])\n",
    "        for row in reader:\n",
    "            pos = row[1]\n",
    "            if row[0] in assult_set:\n",
    "                for i in range(0,int(row[2])):\n",
    "                    all_result[game_id]+=(row[0]+\" \")\n",
    "            elif pos in ([\"Noun\",\"Verb\",\"Adjective\",\"KoreanParticle\"]):\n",
    "                if len(row[0])>1:\n",
    "                    for i in range(0,int(row[2])):\n",
    "                        all_result[game_id]+=(row[0]+\" \")\n"
   ]
  },
  {
   "cell_type": "markdown",
   "metadata": {},
   "source": [
    "라벨링 후 저장"
   ]
  },
  {
   "cell_type": "code",
   "execution_count": 82,
   "metadata": {
    "collapsed": true
   },
   "outputs": [],
   "source": [
    "a_list = []\n",
    "f_list = []\n",
    "with open('./dataset/cbt5_label.csv','r',encoding='utf-8') as readfile:\n",
    "    reader = csv.reader(readfile)\n",
    "    next(reader)\n",
    "    for row in reader:\n",
    "        if row[1]=='A':\n",
    "            a_list.append(int(row[0]))\n",
    "        else:\n",
    "            f_list.append(int(row[0]))"
   ]
  },
  {
   "cell_type": "code",
   "execution_count": 83,
   "metadata": {
    "collapsed": true
   },
   "outputs": [],
   "source": [
    "allword = set()"
   ]
  },
  {
   "cell_type": "code",
   "execution_count": 84,
   "metadata": {
    "collapsed": true
   },
   "outputs": [],
   "source": [
    "with open('./dataset/cbt5_corpus3000.csv','w',newline='\\n',encoding='utf-8') as writefile:\n",
    "    writer = csv.writer(writefile)\n",
    "    writer.writerow(['game_id','corpus','label'])\n",
    "    for game_id in all_result.keys():\n",
    "        if game_id in a_list:\n",
    "            for w in all_result[game_id].split(' '):\n",
    "                allword.add(w)\n",
    "            writer.writerow([game_id,all_result[game_id],'a'])\n",
    "        elif game_id in f_list:\n",
    "            writer.writerow([game_id,all_result[game_id],'f'])\n",
    "            for w in all_result[game_id].split(' '):\n",
    "                allword.add(w)"
   ]
  },
  {
   "cell_type": "code",
   "execution_count": 85,
   "metadata": {},
   "outputs": [
    {
     "data": {
      "text/plain": [
       "41548"
      ]
     },
     "execution_count": 85,
     "metadata": {},
     "output_type": "execute_result"
    }
   ],
   "source": [
    "len(allword)"
   ]
  },
  {
   "cell_type": "markdown",
   "metadata": {},
   "source": [
    "# Make Bow"
   ]
  },
  {
   "cell_type": "code",
   "execution_count": 165,
   "metadata": {},
   "outputs": [
    {
     "data": {
      "text/html": [
       "<div>\n",
       "<style>\n",
       "    .dataframe thead tr:only-child th {\n",
       "        text-align: right;\n",
       "    }\n",
       "\n",
       "    .dataframe thead th {\n",
       "        text-align: left;\n",
       "    }\n",
       "\n",
       "    .dataframe tbody tr th {\n",
       "        vertical-align: top;\n",
       "    }\n",
       "</style>\n",
       "<table border=\"1\" class=\"dataframe\">\n",
       "  <thead>\n",
       "    <tr style=\"text-align: right;\">\n",
       "      <th></th>\n",
       "      <th>game_id</th>\n",
       "      <th>corpus</th>\n",
       "      <th>label</th>\n",
       "    </tr>\n",
       "  </thead>\n",
       "  <tbody>\n",
       "    <tr>\n",
       "      <th>0</th>\n",
       "      <td>1001</td>\n",
       "      <td>놓치는 시기 시기 야할 계신 계신 사태 교훈 왕관 오래 오래 오래 오래 회수 회수 ...</td>\n",
       "      <td>a</td>\n",
       "    </tr>\n",
       "    <tr>\n",
       "      <th>1</th>\n",
       "      <td>10014</td>\n",
       "      <td>인생 인생 있다 같은 랩때 날틀 날틀 싶은 지랄 지랄 지랄 지랄 쉬발 당연한 열매 ...</td>\n",
       "      <td>f</td>\n",
       "    </tr>\n",
       "    <tr>\n",
       "      <th>2</th>\n",
       "      <td>10037</td>\n",
       "      <td>렉쩌는데 문제 추자 춤좀 김정 겜톡 겜톡 겜톡 겜톡 겜톡 안되는 셔플 셔플 셔플 쩐...</td>\n",
       "      <td>f</td>\n",
       "    </tr>\n",
       "    <tr>\n",
       "      <th>3</th>\n",
       "      <td>10185</td>\n",
       "      <td>나뭇가지 어렵 제발 몽상 몽상 몽상 사서 상어 상어 구하는 구하는 하다 죽엿는데 죽...</td>\n",
       "      <td>a</td>\n",
       "    </tr>\n",
       "    <tr>\n",
       "      <th>4</th>\n",
       "      <td>10230</td>\n",
       "      <td>찾기 ㅇㅋㅇㅋ 나지 어딧는 잠긴 업데이트 파티 좀덜 마우스 마우스 마우스 마우스 개...</td>\n",
       "      <td>f</td>\n",
       "    </tr>\n",
       "  </tbody>\n",
       "</table>\n",
       "</div>"
      ],
      "text/plain": [
       "   game_id                                             corpus label\n",
       "0     1001  놓치는 시기 시기 야할 계신 계신 사태 교훈 왕관 오래 오래 오래 오래 회수 회수 ...     a\n",
       "1    10014  인생 인생 있다 같은 랩때 날틀 날틀 싶은 지랄 지랄 지랄 지랄 쉬발 당연한 열매 ...     f\n",
       "2    10037  렉쩌는데 문제 추자 춤좀 김정 겜톡 겜톡 겜톡 겜톡 겜톡 안되는 셔플 셔플 셔플 쩐...     f\n",
       "3    10185  나뭇가지 어렵 제발 몽상 몽상 몽상 사서 상어 상어 구하는 구하는 하다 죽엿는데 죽...     a\n",
       "4    10230  찾기 ㅇㅋㅇㅋ 나지 어딧는 잠긴 업데이트 파티 좀덜 마우스 마우스 마우스 마우스 개...     f"
      ]
     },
     "execution_count": 165,
     "metadata": {},
     "output_type": "execute_result"
    }
   ],
   "source": [
    "data = pd.read_csv('./dataset/cbt5_corpus.csv')\n",
    "data.head()"
   ]
  },
  {
   "cell_type": "code",
   "execution_count": 166,
   "metadata": {
    "collapsed": true
   },
   "outputs": [],
   "source": [
    "from sklearn.feature_extraction.text import CountVectorizer"
   ]
  },
  {
   "cell_type": "code",
   "execution_count": 167,
   "metadata": {
    "collapsed": true
   },
   "outputs": [],
   "source": [
    "def make_review_bow(data):    \n",
    "   \n",
    "    vectorizer = CountVectorizer(min_df=0)\n",
    "\n",
    "    doc = []\n",
    "    \n",
    "    for text in data['corpus']:\n",
    "        doc.append(text)\n",
    "    vectorizer.fit(doc)\n",
    "    x = vectorizer.transform(doc)\n",
    "    bow2 = x.toarray()\n",
    "    bow = pd.DataFrame(bow2,columns=vectorizer.vocabulary_.keys())\n",
    "\n",
    "    return vectorizer, bow"
   ]
  },
  {
   "cell_type": "code",
   "execution_count": 168,
   "metadata": {
    "collapsed": true
   },
   "outputs": [],
   "source": [
    "vectorizer, X = make_review_bow(data)"
   ]
  },
  {
   "cell_type": "code",
   "execution_count": 169,
   "metadata": {},
   "outputs": [
    {
     "data": {
      "text/html": [
       "<div>\n",
       "<style>\n",
       "    .dataframe thead tr:only-child th {\n",
       "        text-align: right;\n",
       "    }\n",
       "\n",
       "    .dataframe thead th {\n",
       "        text-align: left;\n",
       "    }\n",
       "\n",
       "    .dataframe tbody tr th {\n",
       "        vertical-align: top;\n",
       "    }\n",
       "</style>\n",
       "<table border=\"1\" class=\"dataframe\">\n",
       "  <thead>\n",
       "    <tr style=\"text-align: right;\">\n",
       "      <th></th>\n",
       "      <th>놓치는</th>\n",
       "      <th>시기</th>\n",
       "      <th>야할</th>\n",
       "      <th>계신</th>\n",
       "      <th>사태</th>\n",
       "      <th>교훈</th>\n",
       "      <th>왕관</th>\n",
       "      <th>오래</th>\n",
       "      <th>회수</th>\n",
       "      <th>아쉬운</th>\n",
       "      <th>...</th>\n",
       "      <th>죧망함</th>\n",
       "      <th>하늘가</th>\n",
       "      <th>법니</th>\n",
       "      <th>담업</th>\n",
       "      <th>워주</th>\n",
       "      <th>덴슬로로</th>\n",
       "      <th>치셧어야</th>\n",
       "      <th>명있었꼬</th>\n",
       "      <th>산닷</th>\n",
       "      <th>루틸</th>\n",
       "    </tr>\n",
       "  </thead>\n",
       "  <tbody>\n",
       "    <tr>\n",
       "      <th>0</th>\n",
       "      <td>0</td>\n",
       "      <td>0</td>\n",
       "      <td>0</td>\n",
       "      <td>0</td>\n",
       "      <td>0</td>\n",
       "      <td>0</td>\n",
       "      <td>0</td>\n",
       "      <td>0</td>\n",
       "      <td>0</td>\n",
       "      <td>0</td>\n",
       "      <td>...</td>\n",
       "      <td>0</td>\n",
       "      <td>0</td>\n",
       "      <td>0</td>\n",
       "      <td>0</td>\n",
       "      <td>0</td>\n",
       "      <td>0</td>\n",
       "      <td>0</td>\n",
       "      <td>0</td>\n",
       "      <td>0</td>\n",
       "      <td>0</td>\n",
       "    </tr>\n",
       "    <tr>\n",
       "      <th>1</th>\n",
       "      <td>0</td>\n",
       "      <td>0</td>\n",
       "      <td>0</td>\n",
       "      <td>0</td>\n",
       "      <td>0</td>\n",
       "      <td>0</td>\n",
       "      <td>0</td>\n",
       "      <td>0</td>\n",
       "      <td>0</td>\n",
       "      <td>0</td>\n",
       "      <td>...</td>\n",
       "      <td>0</td>\n",
       "      <td>0</td>\n",
       "      <td>0</td>\n",
       "      <td>0</td>\n",
       "      <td>0</td>\n",
       "      <td>0</td>\n",
       "      <td>0</td>\n",
       "      <td>0</td>\n",
       "      <td>0</td>\n",
       "      <td>0</td>\n",
       "    </tr>\n",
       "    <tr>\n",
       "      <th>2</th>\n",
       "      <td>0</td>\n",
       "      <td>0</td>\n",
       "      <td>0</td>\n",
       "      <td>0</td>\n",
       "      <td>0</td>\n",
       "      <td>0</td>\n",
       "      <td>0</td>\n",
       "      <td>0</td>\n",
       "      <td>0</td>\n",
       "      <td>0</td>\n",
       "      <td>...</td>\n",
       "      <td>0</td>\n",
       "      <td>0</td>\n",
       "      <td>0</td>\n",
       "      <td>0</td>\n",
       "      <td>0</td>\n",
       "      <td>0</td>\n",
       "      <td>0</td>\n",
       "      <td>0</td>\n",
       "      <td>0</td>\n",
       "      <td>0</td>\n",
       "    </tr>\n",
       "    <tr>\n",
       "      <th>3</th>\n",
       "      <td>2</td>\n",
       "      <td>0</td>\n",
       "      <td>0</td>\n",
       "      <td>0</td>\n",
       "      <td>0</td>\n",
       "      <td>0</td>\n",
       "      <td>0</td>\n",
       "      <td>0</td>\n",
       "      <td>0</td>\n",
       "      <td>0</td>\n",
       "      <td>...</td>\n",
       "      <td>0</td>\n",
       "      <td>0</td>\n",
       "      <td>0</td>\n",
       "      <td>0</td>\n",
       "      <td>0</td>\n",
       "      <td>0</td>\n",
       "      <td>0</td>\n",
       "      <td>0</td>\n",
       "      <td>0</td>\n",
       "      <td>0</td>\n",
       "    </tr>\n",
       "    <tr>\n",
       "      <th>4</th>\n",
       "      <td>0</td>\n",
       "      <td>0</td>\n",
       "      <td>0</td>\n",
       "      <td>0</td>\n",
       "      <td>0</td>\n",
       "      <td>0</td>\n",
       "      <td>0</td>\n",
       "      <td>0</td>\n",
       "      <td>0</td>\n",
       "      <td>0</td>\n",
       "      <td>...</td>\n",
       "      <td>0</td>\n",
       "      <td>0</td>\n",
       "      <td>0</td>\n",
       "      <td>0</td>\n",
       "      <td>0</td>\n",
       "      <td>0</td>\n",
       "      <td>0</td>\n",
       "      <td>0</td>\n",
       "      <td>0</td>\n",
       "      <td>0</td>\n",
       "    </tr>\n",
       "  </tbody>\n",
       "</table>\n",
       "<p>5 rows × 134883 columns</p>\n",
       "</div>"
      ],
      "text/plain": [
       "   놓치는  시기  야할  계신  사태  교훈  왕관  오래  회수  아쉬운 ...  죧망함  하늘가  법니  담업  워주  덴슬로로  \\\n",
       "0    0   0   0   0   0   0   0   0   0    0 ...    0    0   0   0   0     0   \n",
       "1    0   0   0   0   0   0   0   0   0    0 ...    0    0   0   0   0     0   \n",
       "2    0   0   0   0   0   0   0   0   0    0 ...    0    0   0   0   0     0   \n",
       "3    2   0   0   0   0   0   0   0   0    0 ...    0    0   0   0   0     0   \n",
       "4    0   0   0   0   0   0   0   0   0    0 ...    0    0   0   0   0     0   \n",
       "\n",
       "   치셧어야  명있었꼬  산닷  루틸  \n",
       "0     0     0   0   0  \n",
       "1     0     0   0   0  \n",
       "2     0     0   0   0  \n",
       "3     0     0   0   0  \n",
       "4     0     0   0   0  \n",
       "\n",
       "[5 rows x 134883 columns]"
      ]
     },
     "execution_count": 169,
     "metadata": {},
     "output_type": "execute_result"
    }
   ],
   "source": [
    "X.head()"
   ]
  },
  {
   "cell_type": "code",
   "execution_count": 170,
   "metadata": {
    "collapsed": true
   },
   "outputs": [],
   "source": [
    "Y = data.label"
   ]
  },
  {
   "cell_type": "code",
   "execution_count": 171,
   "metadata": {
    "collapsed": true
   },
   "outputs": [],
   "source": [
    "from sklearn.cross_validation import train_test_split\n",
    "from sklearn.metrics import mean_squared_error\n",
    "from sklearn.linear_model import SGDClassifier\n",
    "from sklearn.naive_bayes import MultinomialNB\n",
    "from sklearn.linear_model import LogisticRegression\n",
    "from sklearn.metrics import confusion_matrix\n",
    "from sklearn.ensemble import RandomForestClassifier\n",
    "\n",
    "x_train, x_test, y_train, y_test = train_test_split(X,Y,test_size=0.3)"
   ]
  },
  {
   "cell_type": "code",
   "execution_count": 174,
   "metadata": {},
   "outputs": [
    {
     "name": "stdout",
     "output_type": "stream",
     "text": [
      "Model Accuracy: 94.5686900958\n",
      "[[145   8]\n",
      " [  9 151]]\n",
      "Model Accuracy: 59.7444089457\n",
      "[[153   0]\n",
      " [126  34]]\n",
      "Model Accuracy: 95.8466453674\n",
      "[[140  13]\n",
      " [  0 160]]\n"
     ]
    }
   ],
   "source": [
    "sgd = SGDClassifier()\n",
    "sgd.fit(x_train, y_train)\n",
    "y_pred = sgd.predict(x_test)\n",
    "cm = confusion_matrix(y_test,y_pred)\n",
    "print (\"Model Accuracy:\", 100 * sgd.score(x_test, y_test))\n",
    "print (cm)\n",
    "nb = MultinomialNB()\n",
    "nb.fit(x_train, y_train)\n",
    "y_pred = nb.predict(x_test)\n",
    "cm = confusion_matrix(y_test,y_pred)\n",
    "print (\"Model Accuracy:\", 100 * nb.score(x_test, y_test))\n",
    "print (cm)\n",
    "lg = LogisticRegression()\n",
    "lg.fit(x_train,y_train)\n",
    "y_pred = lg.predict(x_test)\n",
    "cm = confusion_matrix(y_test,y_pred)\n",
    "print (\"Model Accuracy:\", 100 * lg.score(x_test, y_test))\n",
    "print (cm)"
   ]
  },
  {
   "cell_type": "markdown",
   "metadata": {},
   "source": [
    "---\n",
    "\n",
    "# using first 3000 words"
   ]
  },
  {
   "cell_type": "code",
   "execution_count": 175,
   "metadata": {},
   "outputs": [
    {
     "data": {
      "text/html": [
       "<div>\n",
       "<style>\n",
       "    .dataframe thead tr:only-child th {\n",
       "        text-align: right;\n",
       "    }\n",
       "\n",
       "    .dataframe thead th {\n",
       "        text-align: left;\n",
       "    }\n",
       "\n",
       "    .dataframe tbody tr th {\n",
       "        vertical-align: top;\n",
       "    }\n",
       "</style>\n",
       "<table border=\"1\" class=\"dataframe\">\n",
       "  <thead>\n",
       "    <tr style=\"text-align: right;\">\n",
       "      <th></th>\n",
       "      <th>game_id</th>\n",
       "      <th>corpus</th>\n",
       "      <th>label</th>\n",
       "    </tr>\n",
       "  </thead>\n",
       "  <tbody>\n",
       "    <tr>\n",
       "      <th>0</th>\n",
       "      <td>1001</td>\n",
       "      <td>교훈 시기 시기 계신 계신 사태 놓치는 오래 오래 오래 오래 이상 아쉬운 해주시 사...</td>\n",
       "      <td>a</td>\n",
       "    </tr>\n",
       "    <tr>\n",
       "      <th>1</th>\n",
       "      <td>10014</td>\n",
       "      <td>인생 인생 만세 있다 같은 랩때 날틀 날틀 싶은 지랄 지랄 지랄 지랄 쉬발 먹엇어 ...</td>\n",
       "      <td>f</td>\n",
       "    </tr>\n",
       "    <tr>\n",
       "      <th>2</th>\n",
       "      <td>10037</td>\n",
       "      <td>문제 추자 춤좀 겜톡 겜톡 겜톡 겜톡 겜톡 안되는 셔플 셔플 셔플 쩐다 맨손 마리 ...</td>\n",
       "      <td>f</td>\n",
       "    </tr>\n",
       "    <tr>\n",
       "      <th>3</th>\n",
       "      <td>10185</td>\n",
       "      <td>하셧 가기 계신 보고 싶은 짜증 짜증 약간 육식 육식 육식 육식 육식 육식 육식 육...</td>\n",
       "      <td>a</td>\n",
       "    </tr>\n",
       "    <tr>\n",
       "      <th>4</th>\n",
       "      <td>10230</td>\n",
       "      <td>찾기 ㅇㅋㅇㅋ 나지 개사 잡으 여기 여기 여기 여기 여기 잠긴 업데이트 파티 좀덜 ...</td>\n",
       "      <td>f</td>\n",
       "    </tr>\n",
       "  </tbody>\n",
       "</table>\n",
       "</div>"
      ],
      "text/plain": [
       "   game_id                                             corpus label\n",
       "0     1001  교훈 시기 시기 계신 계신 사태 놓치는 오래 오래 오래 오래 이상 아쉬운 해주시 사...     a\n",
       "1    10014  인생 인생 만세 있다 같은 랩때 날틀 날틀 싶은 지랄 지랄 지랄 지랄 쉬발 먹엇어 ...     f\n",
       "2    10037  문제 추자 춤좀 겜톡 겜톡 겜톡 겜톡 겜톡 안되는 셔플 셔플 셔플 쩐다 맨손 마리 ...     f\n",
       "3    10185  하셧 가기 계신 보고 싶은 짜증 짜증 약간 육식 육식 육식 육식 육식 육식 육식 육...     a\n",
       "4    10230  찾기 ㅇㅋㅇㅋ 나지 개사 잡으 여기 여기 여기 여기 여기 잠긴 업데이트 파티 좀덜 ...     f"
      ]
     },
     "execution_count": 175,
     "metadata": {},
     "output_type": "execute_result"
    }
   ],
   "source": [
    "data = pd.read_csv('./dataset/cbt5_corpus3000label.csv')\n",
    "data.head()"
   ]
  },
  {
   "cell_type": "code",
   "execution_count": 176,
   "metadata": {
    "collapsed": true
   },
   "outputs": [],
   "source": [
    "vectorizer, X = make_review_bow(data)\n",
    "Y = data.label\n",
    "x_train, x_test, y_train, y_test = train_test_split(X,Y,test_size=0.3)"
   ]
  },
  {
   "cell_type": "code",
   "execution_count": 178,
   "metadata": {},
   "outputs": [
    {
     "name": "stdout",
     "output_type": "stream",
     "text": [
      "Model Accuracy: 94.8881789137\n",
      "[[139   7]\n",
      " [  9 158]]\n",
      "Model Accuracy: 92.9712460064\n",
      "[[146   0]\n",
      " [ 22 145]]\n",
      "Model Accuracy: 95.2076677316\n",
      "[[136  10]\n",
      " [  5 162]]\n"
     ]
    }
   ],
   "source": [
    "sgd = SGDClassifier()\n",
    "sgd.fit(x_train, y_train)\n",
    "y_pred = sgd.predict(x_test)\n",
    "cm = confusion_matrix(y_test,y_pred)\n",
    "print (\"Model Accuracy:\", 100 * sgd.score(x_test, y_test))\n",
    "print (cm)\n",
    "nb = MultinomialNB()\n",
    "nb.fit(x_train, y_train)\n",
    "y_pred = nb.predict(x_test)\n",
    "cm = confusion_matrix(y_test,y_pred)\n",
    "print (\"Model Accuracy:\", 100 * nb.score(x_test, y_test))\n",
    "print (cm)\n",
    "lg = LogisticRegression()\n",
    "lg.fit(x_train,y_train)\n",
    "y_pred = lg.predict(x_test)\n",
    "cm = confusion_matrix(y_test,y_pred)\n",
    "print (\"Model Accuracy:\", 100 * lg.score(x_test, y_test))\n",
    "print (cm)\n"
   ]
  },
  {
   "cell_type": "code",
   "execution_count": 116,
   "metadata": {},
   "outputs": [
    {
     "data": {
      "text/html": [
       "<div>\n",
       "<style>\n",
       "    .dataframe thead tr:only-child th {\n",
       "        text-align: right;\n",
       "    }\n",
       "\n",
       "    .dataframe thead th {\n",
       "        text-align: left;\n",
       "    }\n",
       "\n",
       "    .dataframe tbody tr th {\n",
       "        vertical-align: top;\n",
       "    }\n",
       "</style>\n",
       "<table border=\"1\" class=\"dataframe\">\n",
       "  <thead>\n",
       "    <tr style=\"text-align: right;\">\n",
       "      <th></th>\n",
       "      <th>교훈</th>\n",
       "      <th>시기</th>\n",
       "      <th>계신</th>\n",
       "      <th>사태</th>\n",
       "      <th>놓치는</th>\n",
       "      <th>오래</th>\n",
       "      <th>이상</th>\n",
       "      <th>아쉬운</th>\n",
       "      <th>해주시</th>\n",
       "      <th>사이좋</th>\n",
       "      <th>...</th>\n",
       "      <th>수익금</th>\n",
       "      <th>ㅣㅓ</th>\n",
       "      <th>은괴듬</th>\n",
       "      <th>빠빠밤</th>\n",
       "      <th>명있었꼬</th>\n",
       "      <th>나다물량</th>\n",
       "      <th>ㅇㄹㄴㅇㄹ</th>\n",
       "      <th>선창</th>\n",
       "      <th>리익</th>\n",
       "      <th>ㅜㄴㅁㅇㄹ</th>\n",
       "    </tr>\n",
       "  </thead>\n",
       "  <tbody>\n",
       "    <tr>\n",
       "      <th>0</th>\n",
       "      <td>0</td>\n",
       "      <td>0</td>\n",
       "      <td>0</td>\n",
       "      <td>0</td>\n",
       "      <td>0</td>\n",
       "      <td>0</td>\n",
       "      <td>0</td>\n",
       "      <td>0</td>\n",
       "      <td>0</td>\n",
       "      <td>0</td>\n",
       "      <td>...</td>\n",
       "      <td>0</td>\n",
       "      <td>0</td>\n",
       "      <td>0</td>\n",
       "      <td>0</td>\n",
       "      <td>0</td>\n",
       "      <td>0</td>\n",
       "      <td>0</td>\n",
       "      <td>0</td>\n",
       "      <td>0</td>\n",
       "      <td>0</td>\n",
       "    </tr>\n",
       "    <tr>\n",
       "      <th>1</th>\n",
       "      <td>0</td>\n",
       "      <td>0</td>\n",
       "      <td>0</td>\n",
       "      <td>0</td>\n",
       "      <td>0</td>\n",
       "      <td>0</td>\n",
       "      <td>0</td>\n",
       "      <td>0</td>\n",
       "      <td>0</td>\n",
       "      <td>0</td>\n",
       "      <td>...</td>\n",
       "      <td>0</td>\n",
       "      <td>0</td>\n",
       "      <td>0</td>\n",
       "      <td>0</td>\n",
       "      <td>0</td>\n",
       "      <td>0</td>\n",
       "      <td>0</td>\n",
       "      <td>0</td>\n",
       "      <td>0</td>\n",
       "      <td>0</td>\n",
       "    </tr>\n",
       "    <tr>\n",
       "      <th>2</th>\n",
       "      <td>0</td>\n",
       "      <td>0</td>\n",
       "      <td>0</td>\n",
       "      <td>0</td>\n",
       "      <td>0</td>\n",
       "      <td>0</td>\n",
       "      <td>0</td>\n",
       "      <td>0</td>\n",
       "      <td>0</td>\n",
       "      <td>0</td>\n",
       "      <td>...</td>\n",
       "      <td>0</td>\n",
       "      <td>0</td>\n",
       "      <td>0</td>\n",
       "      <td>0</td>\n",
       "      <td>0</td>\n",
       "      <td>0</td>\n",
       "      <td>0</td>\n",
       "      <td>0</td>\n",
       "      <td>0</td>\n",
       "      <td>0</td>\n",
       "    </tr>\n",
       "    <tr>\n",
       "      <th>3</th>\n",
       "      <td>1</td>\n",
       "      <td>0</td>\n",
       "      <td>0</td>\n",
       "      <td>0</td>\n",
       "      <td>0</td>\n",
       "      <td>0</td>\n",
       "      <td>0</td>\n",
       "      <td>0</td>\n",
       "      <td>0</td>\n",
       "      <td>0</td>\n",
       "      <td>...</td>\n",
       "      <td>0</td>\n",
       "      <td>0</td>\n",
       "      <td>0</td>\n",
       "      <td>0</td>\n",
       "      <td>0</td>\n",
       "      <td>0</td>\n",
       "      <td>0</td>\n",
       "      <td>0</td>\n",
       "      <td>0</td>\n",
       "      <td>0</td>\n",
       "    </tr>\n",
       "    <tr>\n",
       "      <th>4</th>\n",
       "      <td>0</td>\n",
       "      <td>0</td>\n",
       "      <td>0</td>\n",
       "      <td>0</td>\n",
       "      <td>0</td>\n",
       "      <td>0</td>\n",
       "      <td>0</td>\n",
       "      <td>0</td>\n",
       "      <td>0</td>\n",
       "      <td>1</td>\n",
       "      <td>...</td>\n",
       "      <td>0</td>\n",
       "      <td>0</td>\n",
       "      <td>0</td>\n",
       "      <td>0</td>\n",
       "      <td>0</td>\n",
       "      <td>0</td>\n",
       "      <td>0</td>\n",
       "      <td>0</td>\n",
       "      <td>0</td>\n",
       "      <td>0</td>\n",
       "    </tr>\n",
       "  </tbody>\n",
       "</table>\n",
       "<p>5 rows × 41537 columns</p>\n",
       "</div>"
      ],
      "text/plain": [
       "   교훈  시기  계신  사태  놓치는  오래  이상  아쉬운  해주시  사이좋  ...    수익금  ㅣㅓ  은괴듬  빠빠밤  명있었꼬  \\\n",
       "0   0   0   0   0    0   0   0    0    0    0  ...      0   0    0    0     0   \n",
       "1   0   0   0   0    0   0   0    0    0    0  ...      0   0    0    0     0   \n",
       "2   0   0   0   0    0   0   0    0    0    0  ...      0   0    0    0     0   \n",
       "3   1   0   0   0    0   0   0    0    0    0  ...      0   0    0    0     0   \n",
       "4   0   0   0   0    0   0   0    0    0    1  ...      0   0    0    0     0   \n",
       "\n",
       "   나다물량  ㅇㄹㄴㅇㄹ  선창  리익  ㅜㄴㅁㅇㄹ  \n",
       "0     0      0   0   0      0  \n",
       "1     0      0   0   0      0  \n",
       "2     0      0   0   0      0  \n",
       "3     0      0   0   0      0  \n",
       "4     0      0   0   0      0  \n",
       "\n",
       "[5 rows x 41537 columns]"
      ]
     },
     "execution_count": 116,
     "metadata": {},
     "output_type": "execute_result"
    }
   ],
   "source": [
    "X.head()"
   ]
  },
  {
   "cell_type": "markdown",
   "metadata": {},
   "source": [
    "### Cut TF below 10 words"
   ]
  },
  {
   "cell_type": "code",
   "execution_count": 179,
   "metadata": {},
   "outputs": [],
   "source": [
    "words1 = pd.read_csv('./dataset/tfidf_more10_a.csv')\n",
    "words2 = pd.read_csv('./dataset/tfidf_more10_f.csv')"
   ]
  },
  {
   "cell_type": "code",
   "execution_count": 180,
   "metadata": {},
   "outputs": [
    {
     "data": {
      "text/html": [
       "<div>\n",
       "<style>\n",
       "    .dataframe thead tr:only-child th {\n",
       "        text-align: right;\n",
       "    }\n",
       "\n",
       "    .dataframe thead th {\n",
       "        text-align: left;\n",
       "    }\n",
       "\n",
       "    .dataframe tbody tr th {\n",
       "        vertical-align: top;\n",
       "    }\n",
       "</style>\n",
       "<table border=\"1\" class=\"dataframe\">\n",
       "  <thead>\n",
       "    <tr style=\"text-align: right;\">\n",
       "      <th></th>\n",
       "      <th>word</th>\n",
       "      <th>tf-idf</th>\n",
       "      <th>tf</th>\n",
       "    </tr>\n",
       "  </thead>\n",
       "  <tbody>\n",
       "    <tr>\n",
       "      <th>0</th>\n",
       "      <td>시기</td>\n",
       "      <td>1.214665</td>\n",
       "      <td>19</td>\n",
       "    </tr>\n",
       "    <tr>\n",
       "      <th>1</th>\n",
       "      <td>계신</td>\n",
       "      <td>1.850684</td>\n",
       "      <td>95</td>\n",
       "    </tr>\n",
       "    <tr>\n",
       "      <th>2</th>\n",
       "      <td>오래</td>\n",
       "      <td>1.875265</td>\n",
       "      <td>101</td>\n",
       "    </tr>\n",
       "    <tr>\n",
       "      <th>3</th>\n",
       "      <td>이상</td>\n",
       "      <td>2.197838</td>\n",
       "      <td>225</td>\n",
       "    </tr>\n",
       "    <tr>\n",
       "      <th>4</th>\n",
       "      <td>해주시</td>\n",
       "      <td>1.193867</td>\n",
       "      <td>18</td>\n",
       "    </tr>\n",
       "  </tbody>\n",
       "</table>\n",
       "</div>"
      ],
      "text/plain": [
       "  word    tf-idf   tf\n",
       "0   시기  1.214665   19\n",
       "1   계신  1.850684   95\n",
       "2   오래  1.875265  101\n",
       "3   이상  2.197838  225\n",
       "4  해주시  1.193867   18"
      ]
     },
     "execution_count": 180,
     "metadata": {},
     "output_type": "execute_result"
    }
   ],
   "source": [
    "words1.head()"
   ]
  },
  {
   "cell_type": "code",
   "execution_count": 181,
   "metadata": {
    "collapsed": true
   },
   "outputs": [],
   "source": [
    "words1 = set(words1.word)\n",
    "words2 = set(words2.word)"
   ]
  },
  {
   "cell_type": "code",
   "execution_count": 182,
   "metadata": {
    "collapsed": true
   },
   "outputs": [],
   "source": [
    "words3 = set(X.columns)"
   ]
  },
  {
   "cell_type": "code",
   "execution_count": 183,
   "metadata": {},
   "outputs": [
    {
     "data": {
      "text/plain": [
       "4109"
      ]
     },
     "execution_count": 183,
     "metadata": {},
     "output_type": "execute_result"
    }
   ],
   "source": [
    "word_list = list((words1 | words2)&words3)\n",
    "len(word_list)"
   ]
  },
  {
   "cell_type": "code",
   "execution_count": 184,
   "metadata": {
    "collapsed": true
   },
   "outputs": [],
   "source": [
    "X_2 = X[word_list]"
   ]
  },
  {
   "cell_type": "code",
   "execution_count": 209,
   "metadata": {},
   "outputs": [
    {
     "name": "stdout",
     "output_type": "stream",
     "text": [
      "Model Accuracy: 94.8881789137\n",
      "[[153   2]\n",
      " [ 14 144]]\n",
      "Model Accuracy: 93.9297124601\n",
      "[[155   0]\n",
      " [ 19 139]]\n",
      "Model Accuracy: 96.8051118211\n",
      "[[147   8]\n",
      " [  2 156]]\n"
     ]
    }
   ],
   "source": [
    "vectorizer, X_2 = make_review_bow(data)\n",
    "Y = data.label\n",
    "x_train, x_test, y_train, y_test = train_test_split(X_2,Y,test_size=0.3)\n",
    "\n",
    "sgd = SGDClassifier()\n",
    "sgd.fit(x_train, y_train)\n",
    "y_pred = sgd.predict(x_test)\n",
    "cm = confusion_matrix(y_test,y_pred)\n",
    "print (\"Model Accuracy:\", 100 * sgd.score(x_test, y_test))\n",
    "print (cm)\n",
    "nb = MultinomialNB()\n",
    "nb.fit(x_train, y_train)\n",
    "y_pred = nb.predict(x_test)\n",
    "cm = confusion_matrix(y_test,y_pred)\n",
    "print (\"Model Accuracy:\", 100 * nb.score(x_test, y_test))\n",
    "print (cm)\n",
    "lg = LogisticRegression()\n",
    "lg.fit(x_train,y_train)\n",
    "y_pred = lg.predict(x_test)\n",
    "cm = confusion_matrix(y_test,y_pred)\n",
    "print (\"Model Accuracy:\", 100 * lg.score(x_test, y_test))\n",
    "print (cm)\n"
   ]
  },
  {
   "cell_type": "code",
   "execution_count": 217,
   "metadata": {},
   "outputs": [],
   "source": [
    "import operator\n",
    "\n",
    "rank_sort = sorted(rank.items(), key=operator.itemgetter(1))"
   ]
  },
  {
   "cell_type": "code",
   "execution_count": 225,
   "metadata": {},
   "outputs": [
    {
     "data": {
      "text/plain": [
       "[('왓엇음아까', -0.36933042326327981),\n",
       " ('기억나시', -0.34176148766888553),\n",
       " ('심느', -0.31787785184912193),\n",
       " ('눌려봐', -0.27992123920726042),\n",
       " ('병헌', -0.26798251061236678),\n",
       " ('터보', -0.25918237283512491),\n",
       " ('쾌꺠', -0.25301726881625997),\n",
       " ('장의', -0.25172750277346495),\n",
       " ('돈줘잉', -0.2435215772879305),\n",
       " ('졸업', -0.24350618711943248),\n",
       " ('엄청쎔', -0.23539267526125809),\n",
       " ('찍힘', -0.22778153586599842),\n",
       " ('볼라', -0.22520670883696897),\n",
       " ('딱퍼임', -0.2244750272072227),\n",
       " ('모비', -0.22178627735941833),\n",
       " ('글픽글픽', -0.21786441721969713),\n",
       " ('보름달', -0.2172650123431013),\n",
       " ('달라짐', -0.21646262323450363),\n",
       " ('적용되는', -0.21257769956464734),\n",
       " ('스릇', -0.20410323380442313)]"
      ]
     },
     "execution_count": 225,
     "metadata": {},
     "output_type": "execute_result"
    }
   ],
   "source": [
    "rank_sort[:20]"
   ]
  },
  {
   "cell_type": "code",
   "execution_count": 224,
   "metadata": {},
   "outputs": [
    {
     "data": {
      "text/plain": [
       "[('추고', 0.18597711133291603),\n",
       " ('낱틀', 0.18689764221194111),\n",
       " ('파티뎀지', 0.18896183311681691),\n",
       " ('지드래곤', 0.1891742242860926),\n",
       " ('싸우기', 0.19100943939961793),\n",
       " ('삑살', 0.19147741704721877),\n",
       " ('추가될', 0.19155956169882885),\n",
       " ('커졋', 0.19768686082593032),\n",
       " ('쓰러지', 0.20005559928220376),\n",
       " ('우걱', 0.20040974095067463),\n",
       " ('개새키', 0.20883316357774068),\n",
       " ('빡시겟군', 0.21879219234630404),\n",
       " ('왜배', 0.22424717629138832),\n",
       " ('교배', 0.23596548369521914),\n",
       " ('춤추던', 0.24923783438684174),\n",
       " ('어찌하지', 0.26240823393672036),\n",
       " ('입어봤', 0.26858836119727553),\n",
       " ('맞추셔', 0.29592821668684083),\n",
       " ('와우', 0.30521484438232521),\n",
       " ('걸렷는데', 0.40676794264676119)]"
      ]
     },
     "execution_count": 224,
     "metadata": {},
     "output_type": "execute_result"
    }
   ],
   "source": [
    "rank_sort[-20:]"
   ]
  },
  {
   "cell_type": "code",
   "execution_count": 99,
   "metadata": {
    "collapsed": true
   },
   "outputs": [],
   "source": [
    "from sklearn.feature_selection import mutual_info_classif\n",
    "import operator"
   ]
  },
  {
   "cell_type": "code",
   "execution_count": 96,
   "metadata": {
    "collapsed": true
   },
   "outputs": [],
   "source": [
    "res = dict(zip(X.columns, mutual_info_classif(x_train, y_train, discrete_features=True)))"
   ]
  },
  {
   "cell_type": "code",
   "execution_count": 104,
   "metadata": {
    "collapsed": true
   },
   "outputs": [],
   "source": [
    "sorted_x = sorted(res.items(), key=operator.itemgetter(1),reverse=False)"
   ]
  },
  {
   "cell_type": "markdown",
   "metadata": {},
   "source": [
    "---\n",
    "\n",
    "# 욕설 카운트"
   ]
  },
  {
   "cell_type": "code",
   "execution_count": 106,
   "metadata": {},
   "outputs": [
    {
     "data": {
      "text/plain": [
       "1480"
      ]
     },
     "execution_count": 106,
     "metadata": {},
     "output_type": "execute_result"
    }
   ],
   "source": [
    "len(allassult)"
   ]
  },
  {
   "cell_type": "code",
   "execution_count": 108,
   "metadata": {
    "collapsed": true
   },
   "outputs": [],
   "source": [
    "with open('./dataset/cbt5_corpus3000label.csv','r',encoding='utf-8') as readfile:\n",
    "    reader = csv.reader(readfile)\n",
    "    next(reader)\n",
    "#     writer.writerow(['game_id','corpus','label'])\n",
    "    with open('./dataset/cbt5_assultstat.csv','w',newline='\\n') as writefile:\n",
    "        writer = csv.writer(writefile)\n",
    "        writer.writerow(['game_id','label','count'])\n",
    "        for row in reader:\n",
    "            words = row[1].split(' ')\n",
    "            count = 0\n",
    "            for word in words:\n",
    "                if word in allassult:\n",
    "                    count+=1\n",
    "            writer.writerow([row[0],row[2],count])"
   ]
  },
  {
   "cell_type": "code",
   "execution_count": 118,
   "metadata": {},
   "outputs": [
    {
     "data": {
      "text/html": [
       "<div>\n",
       "<style>\n",
       "    .dataframe thead tr:only-child th {\n",
       "        text-align: right;\n",
       "    }\n",
       "\n",
       "    .dataframe thead th {\n",
       "        text-align: left;\n",
       "    }\n",
       "\n",
       "    .dataframe tbody tr th {\n",
       "        vertical-align: top;\n",
       "    }\n",
       "</style>\n",
       "<table border=\"1\" class=\"dataframe\">\n",
       "  <thead>\n",
       "    <tr style=\"text-align: right;\">\n",
       "      <th></th>\n",
       "      <th>game_id</th>\n",
       "      <th>label</th>\n",
       "      <th>count</th>\n",
       "    </tr>\n",
       "  </thead>\n",
       "  <tbody>\n",
       "    <tr>\n",
       "      <th>0</th>\n",
       "      <td>1001</td>\n",
       "      <td>a</td>\n",
       "      <td>3</td>\n",
       "    </tr>\n",
       "    <tr>\n",
       "      <th>1</th>\n",
       "      <td>10014</td>\n",
       "      <td>f</td>\n",
       "      <td>7</td>\n",
       "    </tr>\n",
       "    <tr>\n",
       "      <th>2</th>\n",
       "      <td>10037</td>\n",
       "      <td>f</td>\n",
       "      <td>8</td>\n",
       "    </tr>\n",
       "    <tr>\n",
       "      <th>3</th>\n",
       "      <td>10185</td>\n",
       "      <td>a</td>\n",
       "      <td>1</td>\n",
       "    </tr>\n",
       "    <tr>\n",
       "      <th>4</th>\n",
       "      <td>10230</td>\n",
       "      <td>f</td>\n",
       "      <td>4</td>\n",
       "    </tr>\n",
       "  </tbody>\n",
       "</table>\n",
       "</div>"
      ],
      "text/plain": [
       "   game_id label  count\n",
       "0     1001     a      3\n",
       "1    10014     f      7\n",
       "2    10037     f      8\n",
       "3    10185     a      1\n",
       "4    10230     f      4"
      ]
     },
     "execution_count": 118,
     "metadata": {},
     "output_type": "execute_result"
    }
   ],
   "source": [
    "assult_data = pd.read_csv('./dataset/cbt5_assultstat.csv')\n",
    "assult_data.head()"
   ]
  },
  {
   "cell_type": "code",
   "execution_count": 120,
   "metadata": {
    "collapsed": true
   },
   "outputs": [],
   "source": [
    "data_a = assult_data.loc[assult_data.label=='a']\n",
    "data_f = assult_data.loc[assult_data.label=='f']"
   ]
  },
  {
   "cell_type": "code",
   "execution_count": 121,
   "metadata": {
    "collapsed": true
   },
   "outputs": [],
   "source": [
    "import matplotlib.pyplot as plt"
   ]
  },
  {
   "cell_type": "code",
   "execution_count": 131,
   "metadata": {},
   "outputs": [
    {
     "data": {
      "image/png": "[encoded data removed]",
      "text/plain": [
       "<matplotlib.figure.Figure at 0x20e95f3e828>"
      ]
     },
     "metadata": {},
     "output_type": "display_data"
    },
    {
     "data": {
      "image/png": "[encoded data removed]",
      "text/plain": [
       "<matplotlib.figure.Figure at 0x20e9755a860>"
      ]
     },
     "metadata": {},
     "output_type": "display_data"
    }
   ],
   "source": [
    "\n",
    "data_a['count'].hist(bins=range(0,70,1))\n",
    "plt.title(\"A\")\n",
    "plt.show()\n",
    "\n",
    "data_f['count'].hist(bins=range(0,70,1))\n",
    "plt.title(\"F\")\n",
    "plt.show()"
   ]
  },
  {
   "cell_type": "code",
   "execution_count": null,
   "metadata": {
    "collapsed": true
   },
   "outputs": [],
   "source": []
  }
 ],
 "metadata": {
  "kernelspec": {
   "display_name": "Python 3",
   "language": "python",
   "name": "python3"
  },
  "language_info": {
   "codemirror_mode": {
    "name": "ipython",
    "version": 3
   },
   "file_extension": ".py",
   "mimetype": "text/x-python",
   "name": "python",
   "nbconvert_exporter": "python",
   "pygments_lexer": "ipython3",
   "version": "3.6.1"
  }
 },
 "nbformat": 4,
 "nbformat_minor": 2
}
